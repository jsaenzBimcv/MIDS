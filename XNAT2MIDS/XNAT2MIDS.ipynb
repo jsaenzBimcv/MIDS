{
 "cells": [
  {
   "cell_type": "markdown",
   "metadata": {},
   "source": [
    "<div class=\"clearfix\" style=\"padding: 10px; padding-left: 0px\">\n",
    "<a href=\"http://172.16.147.128\"><img src=\"../../../assests/logotipo-fisabio_tauv.png\" width=\"500px\" style=\"text-align:center; display: inline-block;\">\n",
    "<a href=\"http://ceib.san.gva.es\"><img src=\"../../../assests/logo_CEIB.png\" width=\"150px\" class=\"pull-right\" style=\"display: inline-block; margin: 0px;\"></a>\n",
    "</div>"
   ]
  },
  {
   "cell_type": "markdown",
   "metadata": {},
   "source": [
    "<h1 style=\"text-align:center\">Medical Imaging Bank Valencia Region</h1>\n",
    "<h2 style=\"text-align:center\">XNAT to MIDS</h2> "
   ]
  },
  {
   "cell_type": "markdown",
   "metadata": {},
   "source": [
    "<p style=\"text-align:justify\">\n",
    "The aplication XNAT is a web aplication that colects medical images of patients on a relational database, where each database belong to a project. In the CEIB, this platform is used to manage annonymizated magnetic resonance of patients of Valencia Region. This volume of data is obtained with a semiautomatical proccess from XNAT, but the acquired structure is unfunctional and complex. \n",
    "<p>\n",
    "<p style=\"text-align:justify\"> \n",
    "This proyect wants to convert the XNAT's imaging structure into a more efficient structure, automatic, and easy to undestand. This hierarchy is named **Medical Imaging Data Structure** or **_MIDS_**. _MIDS_ is meant to be a standard that will be used to store and search any type of medical information by researchers in the future.\n",
    "<p>"
   ]
  },
  {
   "cell_type": "markdown",
   "metadata": {},
   "source": [
    "## Index"
   ]
  },
  {
   "cell_type": "markdown",
   "metadata": {
    "collapsed": true
   },
   "source": [
    ">[1. Introduction](#loading)\n",
    "\n",
    ">[2. Medical Imaging Data Structure](#mids)\n",
    "\n",
    ">[3. XNAT to MIDS](#xnat2mids)\n",
    "\n",
    ">[4. References](#references)\n"
   ]
  },
  {
   "cell_type": "markdown",
   "metadata": {
    "collapsed": true
   },
   "source": [
    "<a id='loading'></a>\n",
    "## 1. Introduction: XNAT data base"
   ]
  },
  {
   "cell_type": "markdown",
   "metadata": {},
   "source": [
    "<p style=\"text-align:justify\"> \n",
    "The software that CEIB uses to manage all image data is XNAT with version 1.6.5. This is a powerfull tool that allows the user to store and obtain magnetic resonances. All data images, that contain patients of valencia region, are Anonymised and distributed in several proyects into XNAT. Save data part is quite automatic in this platform, but the proccess for obtaining these images is completely manual.\n",
    "</p>\n",
    "<p style=\"text-align:justify\"> \n",
    "Furthermore, the java applet, that is use to manage downloads, is deprecated in Firefox or Chrome, for this reason, the download is inaccssible in linux. Another problem is the directory structure that is downloaded from each project since is very complex and the name of some folders and files have no visual meaning\n",
    "</p>\n",
    "\n",
    "<p style=\"text-align:justify\"> \n",
    "This proyect wants to solve two problems:\n",
    "</p>\n",
    "\n",
    "+ The problem of manual download of the data whose solution consist of a function in python/bash that throughs petitions API REST via web obtain all data more efficiently and automatically.\n",
    "\n",
    "+ The problem of the structure dischargued whose solution consist of a function in python/bash that transforms XNAT design into a standar that simplifies the data structure called MIDS. "
   ]
  },
  {
   "cell_type": "markdown",
   "metadata": {},
   "source": [
    "<a id='mids'></a>\n",
    "## 2. Medical Imaging Data Structure"
   ]
  },
  {
   "cell_type": "markdown",
   "metadata": {},
   "source": [
    "<p style=\"text-align:justify\"> \n",
    "Currently, distinc forms to store images and medical information exist, but there is not a standard that indicates how this information should be organized and shared. The CEIB idea is to use a simple organisation that any researcher can understand the distribution of data.\n",
    "</p>\n",
    "\n",
    "<p style=\"text-align:justify\">\n",
    "This desing is called MIDS (Medical Imaging Data Structure). MIDS is a new standar that contains every type of medical information and images in simple hierarchy folders. This is born as an extension of the standard BIDS (Brain Imaging Data Structure). BIDS is a structure that collect medical brain images, but MIDS pretend to extend it far away and not limit it the use to medical brain images. the idea is to create de same estructure with both brain, column images or torso, whether Resonance magnetic, Computed tomography, ecography,... This structure will definitely follow the same process regardless of the type and shape of the image\n",
    "</p>\n"
   ]
  },
  {
   "cell_type": "markdown",
   "metadata": {
    "collapsed": true
   },
   "source": [
    "<p style=\"text-align:justify\">\n",
    "Now, we talk to the both structures. In one hand, the structure data recieved from xnat contains a long names and this directory is not standarized, as can be seen in figure 1. \n",
    "</p>\n",
    "\n",
    "    \n",
    "\n"
   ]
  },
  {
   "cell_type": "markdown",
   "metadata": {
    "collapsed": true
   },
   "source": [
    "<p style=\"text-align:center\">\n",
    "<img src=\"../images/xnat_directory.png\" >\n",
    "<div style='text-align:center;'> \n",
    "figure 1:Schema concerns to the download data from XNAT. \n",
    "</div>\n",
    "</p>\n"
   ]
  },
  {
   "cell_type": "markdown",
   "metadata": {
    "collapsed": true
   },
   "source": [
    "<p style=\"text-align:center\">\n",
    "<img src=\"Images/xnat_directory.png\" >\n",
    "<div style='text-align:center;'> \n",
    "figure 2: Relevant parts to directory Xnat\n",
    "</div>\n",
    "</p>"
   ]
  },
  {
   "cell_type": "markdown",
   "metadata": {},
   "source": [
    "<p style=\"text-align:justify\">\n",
    "Furthermore, the other folders, that have not been explain, are not usable information so a one structure more efficient is needed. We intend to correct the previous structure with a more visible and efficient format whose design is given in figure 2."
   ]
  },
  {
   "cell_type": "markdown",
   "metadata": {},
   "source": [
    "<p style=\"text-align:center\">\n",
    "<img src=\"../images/MIDS_directory.png\" >\n",
    "<div style='text-align:center;'> \n",
    "figure 2: Schema concerns to the MIDS directory\n",
    "</div>\n",
    "</p>"
   ]
  },
  {
   "cell_type": "markdown",
   "metadata": {
    "collapsed": true
   },
   "source": [
    "<a id='XNAT2MIDS'></a>\n",
    "## 2. XNAT to MIDS"
   ]
  },
  {
   "cell_type": "markdown",
   "metadata": {},
   "source": [
    "This software allows the user to download a list of projects of CEIB xnat and convert these projects in MIDS format. in this point, it will be briefly explained how the download of one or several projects and will be further detailed the proccess of conver the directory XNAT to MIDS.\n",
    "\n",
    "Now, a conversion into directory MIDS are showed. Firsly,the directory XNAT are displayed ."
   ]
  },
  {
   "cell_type": "code",
   "execution_count": 1,
   "metadata": {
    "collapsed": false
   },
   "outputs": [
    {
     "name": "stdout",
     "output_type": "stream",
     "text": [
      "\u001b[01;34m/data/3/MIDS_test/test_ds1\u001b[00m\r\n",
      "├── \u001b[01;34m11020059578506205358649258226158438712\u001b[00m\r\n",
      "│   └── \u001b[01;34m287247709621497372259501830314772106929\u001b[00m\r\n",
      "│       └── \u001b[01;34mscans\u001b[00m\r\n",
      "│           ├── \u001b[01;34m2-SAGT2\u001b[00m\r\n",
      "│           │   └── \u001b[01;34mresources\u001b[00m\r\n",
      "│           │       └── \u001b[01;34mNIFTI\u001b[00m\r\n",
      "│           │           └── \u001b[01;34mfiles\u001b[00m\r\n",
      "│           │               ├── 121241135321721812122201506161417152661168-2-1-e1un6m2278475s002a1001.json\r\n",
      "│           │               └── \u001b[01;31m121241135321721812122201506161417152661168-2-1-e1un6m2278475s002a1001.nii.gz\u001b[00m\r\n",
      "│           ├── \u001b[01;34m3-SAGT1\u001b[00m\r\n",
      "│           │   └── \u001b[01;34mresources\u001b[00m\r\n",
      "│           │       └── \u001b[01;34mNIFTI\u001b[00m\r\n",
      "│           │           └── \u001b[01;34mfiles\u001b[00m\r\n",
      "│           │               ├── 121241135321721812122201506161417152661168-3-1-e1unde2278475s003a1001.json\r\n",
      "│           │               └── \u001b[01;31m121241135321721812122201506161417152661168-3-1-e1unde2278475s003a1001.nii.gz\u001b[00m\r\n",
      "│           └── \u001b[01;34m4-AXIALT2\u001b[00m\r\n",
      "│               └── \u001b[01;34mresources\u001b[00m\r\n",
      "│                   └── \u001b[01;34mNIFTI\u001b[00m\r\n",
      "│                       └── \u001b[01;34mfiles\u001b[00m\r\n",
      "│                           ├── \u001b[01;31m121241135321721812122201506161417152661168-4-10-e1uo2i2278475s004a1001.nii.gz\u001b[00m\r\n",
      "│                           ├── \u001b[01;31m121241135321721812122201506161417152661168-4-13-e1uo362278475s004a1001.nii.gz\u001b[00m\r\n",
      "│                           ├── 121241135321721812122201506161417152661168-4-1-e1uo292278475s004a1001.json\r\n",
      "│                           ├── \u001b[01;31m121241135321721812122201506161417152661168-4-1-e1uo292278475s004a1001.nii.gz\u001b[00m\r\n",
      "│                           ├── \u001b[01;31m121241135321721812122201506161417152661168-4-4-e1uo2c2278475s004a1001.nii.gz\u001b[00m\r\n",
      "│                           └── \u001b[01;31m121241135321721812122201506161417152661168-4-7-e1uo2f2278475s004a1001.nii.gz\u001b[00m\r\n",
      "├── \u001b[01;34m110247845611499851326633545674623262075\u001b[00m\r\n",
      "│   └── \u001b[01;34m214383049901786742951686826246840736166\u001b[00m\r\n",
      "│       └── \u001b[01;34mscans\u001b[00m\r\n",
      "│           ├── \u001b[01;34m2-SAGT2\u001b[00m\r\n",
      "│           │   └── \u001b[01;34mresources\u001b[00m\r\n",
      "│           │       └── \u001b[01;34mNIFTI\u001b[00m\r\n",
      "│           │           └── \u001b[01;34mfiles\u001b[00m\r\n",
      "│           │               ├── 12124113532172181212220150604928432648380-2-1-hwbsj0DSGLUMBARs002a1001.json\r\n",
      "│           │               └── \u001b[01;31m12124113532172181212220150604928432648380-2-1-hwbsj0DSGLUMBARs002a1001.nii.gz\u001b[00m\r\n",
      "│           ├── \u001b[01;34m3-SAGT1\u001b[00m\r\n",
      "│           │   └── \u001b[01;34mresources\u001b[00m\r\n",
      "│           │       └── \u001b[01;34mNIFTI\u001b[00m\r\n",
      "│           │           └── \u001b[01;34mfiles\u001b[00m\r\n",
      "│           │               ├── 12124113532172181212220150604928432648380-3-1-hwbt7vDSGLUMBARs003a1001.json\r\n",
      "│           │               └── \u001b[01;31m12124113532172181212220150604928432648380-3-1-hwbt7vDSGLUMBARs003a1001.nii.gz\u001b[00m\r\n",
      "│           └── \u001b[01;34m4-AXIALT2\u001b[00m\r\n",
      "│               └── \u001b[01;34mresources\u001b[00m\r\n",
      "│                   └── \u001b[01;34mNIFTI\u001b[00m\r\n",
      "│                       └── \u001b[01;34mfiles\u001b[00m\r\n",
      "│                           ├── \u001b[01;31m12124113532172181212220150604928432648380-4-10-hwbtwzDSGLUMBARs004a1001.nii.gz\u001b[00m\r\n",
      "│                           ├── \u001b[01;31m12124113532172181212220150604928432648380-4-13-hwbtx2DSGLUMBARs004a1001.nii.gz\u001b[00m\r\n",
      "│                           ├── \u001b[01;31m12124113532172181212220150604928432648380-4-1-hwbtw5DSGLUMBARs004a1001.nii.gz\u001b[00m\r\n",
      "│                           ├── 12124113532172181212220150604928432648380-4-4-hwbtw8DSGLUMBARs004a1001.json\r\n",
      "│                           ├── \u001b[01;31m12124113532172181212220150604928432648380-4-4-hwbtw8DSGLUMBARs004a1001.nii.gz\u001b[00m\r\n",
      "│                           └── \u001b[01;31m12124113532172181212220150604928432648380-4-7-hwbtwwDSGLUMBARs004a1001.nii.gz\u001b[00m\r\n",
      "├── \u001b[01;34m219019347415748604395590514725346209317\u001b[00m\r\n",
      "│   └── \u001b[01;34m37499750847929519958634114108249201232\u001b[00m\r\n",
      "│       └── \u001b[01;34mscans\u001b[00m\r\n",
      "│           ├── \u001b[01;34m2-SAGT2\u001b[00m\r\n",
      "│           │   └── \u001b[01;34mresources\u001b[00m\r\n",
      "│           │       └── \u001b[01;34mNIFTI\u001b[00m\r\n",
      "│           │           └── \u001b[01;34mfiles\u001b[00m\r\n",
      "│           │               ├── 12124113532172181212220150602918062645605-2-1-1rauq8a2194106s002a1001.json\r\n",
      "│           │               └── \u001b[01;31m12124113532172181212220150602918062645605-2-1-1rauq8a2194106s002a1001.nii.gz\u001b[00m\r\n",
      "│           ├── \u001b[01;34m3-SAGT1\u001b[00m\r\n",
      "│           │   └── \u001b[01;34mresources\u001b[00m\r\n",
      "│           │       └── \u001b[01;34mNIFTI\u001b[00m\r\n",
      "│           │           └── \u001b[01;34mfiles\u001b[00m\r\n",
      "│           │               ├── 12124113532172181212220150602918062645605-3-1-l645qg2194106s003a1001.json\r\n",
      "│           │               └── \u001b[01;31m12124113532172181212220150602918062645605-3-1-l645qg2194106s003a1001.nii.gz\u001b[00m\r\n",
      "│           └── \u001b[01;34m4-AXIALT2\u001b[00m\r\n",
      "│               └── \u001b[01;34mresources\u001b[00m\r\n",
      "│                   └── \u001b[01;34mNIFTI\u001b[00m\r\n",
      "│                       └── \u001b[01;34mfiles\u001b[00m\r\n",
      "│                           ├── \u001b[01;31m12124113532172181212220150602918062645605-4-10-l646g52194106s004a1001.nii.gz\u001b[00m\r\n",
      "│                           ├── 12124113532172181212220150602918062645605-4-13-l646g82194106s004a1001.json\r\n",
      "│                           ├── \u001b[01;31m12124113532172181212220150602918062645605-4-13-l646g82194106s004a1001.nii.gz\u001b[00m\r\n",
      "│                           ├── \u001b[01;31m12124113532172181212220150602918062645605-4-1-l646fb2194106s004a1001.nii.gz\u001b[00m\r\n",
      "│                           ├── \u001b[01;31m12124113532172181212220150602918062645605-4-4-l646fe2194106s004a1001.nii.gz\u001b[00m\r\n",
      "│                           └── \u001b[01;31m12124113532172181212220150602918062645605-4-7-l646g22194106s004a1001.nii.gz\u001b[00m\r\n",
      "├── \u001b[01;34m242522877766125605887065218935634236469\u001b[00m\r\n",
      "│   └── \u001b[01;34m304592953050321543012672850611802537461\u001b[00m\r\n",
      "│       └── \u001b[01;34mscans\u001b[00m\r\n",
      "│           ├── \u001b[01;34m2-SAGT2\u001b[00m\r\n",
      "│           │   └── \u001b[01;34mresources\u001b[00m\r\n",
      "│           │       └── \u001b[01;34mNIFTI\u001b[00m\r\n",
      "│           │           └── \u001b[01;34mfiles\u001b[00m\r\n",
      "│           │               ├── 121241135321721812122201506161430212661224-2-1-1sc2yvzLUMBARs002a1001.json\r\n",
      "│           │               └── \u001b[01;31m121241135321721812122201506161430212661224-2-1-1sc2yvzLUMBARs002a1001.nii.gz\u001b[00m\r\n",
      "│           ├── \u001b[01;34m3-SAGT1\u001b[00m\r\n",
      "│           │   └── \u001b[01;34mresources\u001b[00m\r\n",
      "│           │       └── \u001b[01;34mNIFTI\u001b[00m\r\n",
      "│           │           └── \u001b[01;34mfiles\u001b[00m\r\n",
      "│           │               ├── 121241135321721812122201506161430212661224-3-1-1h87ko8LUMBARs003a1001.json\r\n",
      "│           │               └── \u001b[01;31m121241135321721812122201506161430212661224-3-1-1h87ko8LUMBARs003a1001.nii.gz\u001b[00m\r\n",
      "│           └── \u001b[01;34m4-AXIALT2\u001b[00m\r\n",
      "│               └── \u001b[01;34mresources\u001b[00m\r\n",
      "│                   └── \u001b[01;34mNIFTI\u001b[00m\r\n",
      "│                       └── \u001b[01;34mfiles\u001b[00m\r\n",
      "│                           ├── \u001b[01;31m121241135321721812122201506161430212661224-4-10-1h87ldcLUMBARs004a1001.nii.gz\u001b[00m\r\n",
      "│                           ├── 121241135321721812122201506161430212661224-4-1-1h87lciLUMBARs004a1001.json\r\n",
      "│                           ├── \u001b[01;31m121241135321721812122201506161430212661224-4-1-1h87lciLUMBARs004a1001.nii.gz\u001b[00m\r\n",
      "│                           ├── \u001b[01;31m121241135321721812122201506161430212661224-4-14-1h87ldgLUMBARs004a1001.nii.gz\u001b[00m\r\n",
      "│                           ├── \u001b[01;31m121241135321721812122201506161430212661224-4-4-1h87lclLUMBARs004a1001.nii.gz\u001b[00m\r\n",
      "│                           └── \u001b[01;31m121241135321721812122201506161430212661224-4-7-1h87ld9LUMBARs004a1001.nii.gz\u001b[00m\r\n",
      "├── \u001b[01;34m42560723921436483059581963165295677355\u001b[00m\r\n",
      "│   └── \u001b[01;34m184613348042165779682813460783495058083\u001b[00m\r\n",
      "│       └── \u001b[01;34mscans\u001b[00m\r\n",
      "│           ├── \u001b[01;34m2-SAGT2\u001b[00m\r\n",
      "│           │   └── \u001b[01;34mresources\u001b[00m\r\n",
      "│           │       └── \u001b[01;34mNIFTI\u001b[00m\r\n",
      "│           │           └── \u001b[01;34mfiles\u001b[00m\r\n",
      "│           │               ├── 121241135321721812122201506181338462663635-2-1-1elx0wb2161423s002a1001.json\r\n",
      "│           │               └── \u001b[01;31m121241135321721812122201506181338462663635-2-1-1elx0wb2161423s002a1001.nii.gz\u001b[00m\r\n",
      "│           ├── \u001b[01;34m3-SAGT1\u001b[00m\r\n",
      "│           │   └── \u001b[01;34mresources\u001b[00m\r\n",
      "│           │       └── \u001b[01;34mNIFTI\u001b[00m\r\n",
      "│           │           └── \u001b[01;34mfiles\u001b[00m\r\n",
      "│           │               ├── 121241135321721812122201506181338462663635-3-1-1elx1kl2161423s003a1001.json\r\n",
      "│           │               └── \u001b[01;31m121241135321721812122201506181338462663635-3-1-1elx1kl2161423s003a1001.nii.gz\u001b[00m\r\n",
      "│           ├── \u001b[01;34m4-SAGSTIR\u001b[00m\r\n",
      "│           │   └── \u001b[01;34mresources\u001b[00m\r\n",
      "│           │       └── \u001b[01;34mNIFTI\u001b[00m\r\n",
      "│           │           └── \u001b[01;34mfiles\u001b[00m\r\n",
      "│           │               ├── 121241135321721812122201506181338462663635-4-1-1elx1rd2161423s004a1001.json\r\n",
      "│           │               └── \u001b[01;31m121241135321721812122201506181338462663635-4-1-1elx1rd2161423s004a1001.nii.gz\u001b[00m\r\n",
      "│           └── \u001b[01;34m6-AXIALT2\u001b[00m\r\n",
      "│               └── \u001b[01;34mresources\u001b[00m\r\n",
      "│                   └── \u001b[01;34mNIFTI\u001b[00m\r\n",
      "│                       └── \u001b[01;34mfiles\u001b[00m\r\n",
      "│                           ├── 121241135321721812122201506181338462663635-6-1-1wu178h2161423s006a1001.json\r\n",
      "│                           └── \u001b[01;31m121241135321721812122201506181338462663635-6-1-1wu178h2161423s006a1001.nii.gz\u001b[00m\r\n",
      "└── \u001b[01;34m47529860967474248540913120511236194496\u001b[00m\r\n",
      "    └── \u001b[01;34m338550050175035188049850191243464356532\u001b[00m\r\n",
      "        └── \u001b[01;34mscans\u001b[00m\r\n",
      "            ├── \u001b[01;34m2-SAGT2\u001b[00m\r\n",
      "            │   └── \u001b[01;34mresources\u001b[00m\r\n",
      "            │       └── \u001b[01;34mNIFTI\u001b[00m\r\n",
      "            │           └── \u001b[01;34mfiles\u001b[00m\r\n",
      "            │               ├── 121241135321721812122201506181328332663579-2-1-1enkfcpDSGLUMBARs002a1001.json\r\n",
      "            │               └── \u001b[01;31m121241135321721812122201506181328332663579-2-1-1enkfcpDSGLUMBARs002a1001.nii.gz\u001b[00m\r\n",
      "            ├── \u001b[01;34m3-SAGT1\u001b[00m\r\n",
      "            │   └── \u001b[01;34mresources\u001b[00m\r\n",
      "            │       └── \u001b[01;34mNIFTI\u001b[00m\r\n",
      "            │           └── \u001b[01;34mfiles\u001b[00m\r\n",
      "            │               ├── 121241135321721812122201506181328332663579-3-1-1enkfjhDSGLUMBARs003a1001.json\r\n",
      "            │               └── \u001b[01;31m121241135321721812122201506181328332663579-3-1-1enkfjhDSGLUMBARs003a1001.nii.gz\u001b[00m\r\n",
      "            ├── \u001b[01;34m4-SAGSTIR\u001b[00m\r\n",
      "            │   └── \u001b[01;34mresources\u001b[00m\r\n",
      "            │       └── \u001b[01;34mNIFTI\u001b[00m\r\n",
      "            │           └── \u001b[01;34mfiles\u001b[00m\r\n",
      "            │               ├── 121241135321721812122201506181328332663579-4-1-1enkg8cDSGLUMBARs004a1001.json\r\n",
      "            │               └── \u001b[01;31m121241135321721812122201506181328332663579-4-1-1enkg8cDSGLUMBARs004a1001.nii.gz\u001b[00m\r\n",
      "            └── \u001b[01;34m5-AXIALT2\u001b[00m\r\n",
      "                └── \u001b[01;34mresources\u001b[00m\r\n",
      "                    └── \u001b[01;34mNIFTI\u001b[00m\r\n",
      "                        └── \u001b[01;34mfiles\u001b[00m\r\n",
      "                            ├── \u001b[01;31m121241135321721812122201506181328332663579-5-10-1wu3477DSGLUMBARs005a1001.nii.gz\u001b[00m\r\n",
      "                            ├── \u001b[01;31m121241135321721812122201506181328332663579-5-1-1wu346dDSGLUMBARs005a1001.nii.gz\u001b[00m\r\n",
      "                            ├── 121241135321721812122201506181328332663579-5-13-1wu347aDSGLUMBARs005a1001.json\r\n",
      "                            ├── \u001b[01;31m121241135321721812122201506181328332663579-5-13-1wu347aDSGLUMBARs005a1001.nii.gz\u001b[00m\r\n",
      "                            └── \u001b[01;31m121241135321721812122201506181328332663579-5-4-1wu346gDSGLUMBARs005a1001.nii.gz\u001b[00m\r\n",
      "\r\n",
      "98 directories, 59 files\r\n"
     ]
    }
   ],
   "source": [
    "! tree \"/data/3/MIDS_test/test_ds1\""
   ]
  },
  {
   "cell_type": "markdown",
   "metadata": {},
   "source": [
    "Secondly, the function XNAT2MIDS is execute:"
   ]
  },
  {
   "cell_type": "code",
   "execution_count": 6,
   "metadata": {
    "collapsed": false
   },
   "outputs": [],
   "source": [
    "import Bash_functions.bash_exe as bash"
   ]
  },
  {
   "cell_type": "code",
   "execution_count": 7,
   "metadata": {
    "collapsed": false
   },
   "outputs": [],
   "source": [
    "bash.bash_command(\"python3 main.py -i /data/3/MIDS_test/ -o /data/3/MIDS_test/test_ds1_mids\");\n"
   ]
  },
  {
   "cell_type": "markdown",
   "metadata": {},
   "source": [
    "Finaly, the MIDS directory is displayed:"
   ]
  },
  {
   "cell_type": "code",
   "execution_count": 8,
   "metadata": {
    "collapsed": false
   },
   "outputs": [
    {
     "name": "stdout",
     "output_type": "stream",
     "text": [
      "\u001b[01;34m/data/3/MIDS_test/test_ds1_mids\u001b[00m\r\n",
      "└── \u001b[01;34mtest_ds1\u001b[00m\r\n",
      "    ├── participants.tsv\r\n",
      "    ├── \u001b[01;34msub-0005\u001b[00m\r\n",
      "    │   └── \u001b[01;34mses-1\u001b[00m\r\n",
      "    │       ├── \u001b[01;34manat\u001b[00m\r\n",
      "    │       │   ├── sub-0005_ses-1_acq-1_run-1_axT2fse.json\r\n",
      "    │       │   ├── \u001b[01;31msub-0005_ses-1_acq-1_run-1_axT2fse.nii.gz\u001b[00m\r\n",
      "    │       │   ├── sub-0005_ses-1_acq-1_run-2_sagT1fse.json\r\n",
      "    │       │   ├── \u001b[01;31msub-0005_ses-1_acq-1_run-2_sagT1fse.nii.gz\u001b[00m\r\n",
      "    │       │   ├── sub-0005_ses-1_acq-1_run-3_sagT2fse.json\r\n",
      "    │       │   ├── \u001b[01;31msub-0005_ses-1_acq-1_run-3_sagT2fse.nii.gz\u001b[00m\r\n",
      "    │       │   ├── \u001b[01;31msub-0005_ses-1_acq-2_run-1_axT2fse.nii.gz\u001b[00m\r\n",
      "    │       │   ├── \u001b[01;31msub-0005_ses-1_acq-3_run-1_axT2fse.nii.gz\u001b[00m\r\n",
      "    │       │   ├── \u001b[01;31msub-0005_ses-1_acq-4_run-1_axT2fse.nii.gz\u001b[00m\r\n",
      "    │       │   └── \u001b[01;31msub-0005_ses-1_acq-5_run-1_axT2fse.nii.gz\u001b[00m\r\n",
      "    │       └── sub-0005_ses-1_scans.tsv\r\n",
      "    ├── \u001b[01;34msub-0006\u001b[00m\r\n",
      "    │   └── \u001b[01;34mses-1\u001b[00m\r\n",
      "    │       ├── \u001b[01;34manat\u001b[00m\r\n",
      "    │       │   ├── sub-0006_ses-1_acq-1_run-1_axT2fse.json\r\n",
      "    │       │   ├── \u001b[01;31msub-0006_ses-1_acq-1_run-1_axT2fse.nii.gz\u001b[00m\r\n",
      "    │       │   ├── sub-0006_ses-1_acq-1_run-2_sagT1fse.json\r\n",
      "    │       │   ├── \u001b[01;31msub-0006_ses-1_acq-1_run-2_sagT1fse.nii.gz\u001b[00m\r\n",
      "    │       │   ├── sub-0006_ses-1_acq-1_run-3_sagT2fse.json\r\n",
      "    │       │   ├── \u001b[01;31msub-0006_ses-1_acq-1_run-3_sagT2fse.nii.gz\u001b[00m\r\n",
      "    │       │   ├── \u001b[01;31msub-0006_ses-1_acq-2_run-1_axT2fse.nii.gz\u001b[00m\r\n",
      "    │       │   ├── \u001b[01;31msub-0006_ses-1_acq-3_run-1_axT2fse.nii.gz\u001b[00m\r\n",
      "    │       │   ├── \u001b[01;31msub-0006_ses-1_acq-4_run-1_axT2fse.nii.gz\u001b[00m\r\n",
      "    │       │   └── \u001b[01;31msub-0006_ses-1_acq-5_run-1_axT2fse.nii.gz\u001b[00m\r\n",
      "    │       └── sub-0006_ses-1_scans.tsv\r\n",
      "    ├── \u001b[01;34msub-0008\u001b[00m\r\n",
      "    │   └── \u001b[01;34mses-1\u001b[00m\r\n",
      "    │       ├── \u001b[01;34manat\u001b[00m\r\n",
      "    │       │   ├── sub-0008_ses-1_acq-1_run-1_axT2fse.json\r\n",
      "    │       │   ├── \u001b[01;31msub-0008_ses-1_acq-1_run-1_axT2fse.nii.gz\u001b[00m\r\n",
      "    │       │   ├── sub-0008_ses-1_acq-1_run-2_sagStir.json\r\n",
      "    │       │   ├── \u001b[01;31msub-0008_ses-1_acq-1_run-2_sagStir.nii.gz\u001b[00m\r\n",
      "    │       │   ├── sub-0008_ses-1_acq-1_run-3_sagT1fse.json\r\n",
      "    │       │   ├── \u001b[01;31msub-0008_ses-1_acq-1_run-3_sagT1fse.nii.gz\u001b[00m\r\n",
      "    │       │   ├── sub-0008_ses-1_acq-1_run-4_sagT2fse.json\r\n",
      "    │       │   └── \u001b[01;31msub-0008_ses-1_acq-1_run-4_sagT2fse.nii.gz\u001b[00m\r\n",
      "    │       └── sub-0008_ses-1_scans.tsv\r\n",
      "    ├── \u001b[01;34msub-0012\u001b[00m\r\n",
      "    │   └── \u001b[01;34mses-1\u001b[00m\r\n",
      "    │       ├── \u001b[01;34manat\u001b[00m\r\n",
      "    │       │   ├── sub-0012_ses-1_acq-1_run-1_axT2fse.json\r\n",
      "    │       │   ├── \u001b[01;31msub-0012_ses-1_acq-1_run-1_axT2fse.nii.gz\u001b[00m\r\n",
      "    │       │   ├── sub-0012_ses-1_acq-1_run-2_sagT1fse.json\r\n",
      "    │       │   ├── \u001b[01;31msub-0012_ses-1_acq-1_run-2_sagT1fse.nii.gz\u001b[00m\r\n",
      "    │       │   ├── sub-0012_ses-1_acq-1_run-3_sagT2fse.json\r\n",
      "    │       │   ├── \u001b[01;31msub-0012_ses-1_acq-1_run-3_sagT2fse.nii.gz\u001b[00m\r\n",
      "    │       │   ├── \u001b[01;31msub-0012_ses-1_acq-2_run-1_axT2fse.nii.gz\u001b[00m\r\n",
      "    │       │   ├── \u001b[01;31msub-0012_ses-1_acq-3_run-1_axT2fse.nii.gz\u001b[00m\r\n",
      "    │       │   ├── \u001b[01;31msub-0012_ses-1_acq-4_run-1_axT2fse.nii.gz\u001b[00m\r\n",
      "    │       │   └── \u001b[01;31msub-0012_ses-1_acq-5_run-1_axT2fse.nii.gz\u001b[00m\r\n",
      "    │       └── sub-0012_ses-1_scans.tsv\r\n",
      "    ├── \u001b[01;34msub-0017\u001b[00m\r\n",
      "    │   └── \u001b[01;34mses-1\u001b[00m\r\n",
      "    │       ├── \u001b[01;34manat\u001b[00m\r\n",
      "    │       │   ├── sub-0017_ses-1_acq-1_run-1_axT2fse.json\r\n",
      "    │       │   ├── \u001b[01;31msub-0017_ses-1_acq-1_run-1_axT2fse.nii.gz\u001b[00m\r\n",
      "    │       │   ├── sub-0017_ses-1_acq-1_run-2_sagStir.json\r\n",
      "    │       │   ├── \u001b[01;31msub-0017_ses-1_acq-1_run-2_sagStir.nii.gz\u001b[00m\r\n",
      "    │       │   ├── sub-0017_ses-1_acq-1_run-3_sagT1fse.json\r\n",
      "    │       │   ├── \u001b[01;31msub-0017_ses-1_acq-1_run-3_sagT1fse.nii.gz\u001b[00m\r\n",
      "    │       │   ├── sub-0017_ses-1_acq-1_run-4_sagT2fse.json\r\n",
      "    │       │   ├── \u001b[01;31msub-0017_ses-1_acq-1_run-4_sagT2fse.nii.gz\u001b[00m\r\n",
      "    │       │   ├── \u001b[01;31msub-0017_ses-1_acq-2_run-1_axT2fse.nii.gz\u001b[00m\r\n",
      "    │       │   ├── \u001b[01;31msub-0017_ses-1_acq-3_run-1_axT2fse.nii.gz\u001b[00m\r\n",
      "    │       │   └── \u001b[01;31msub-0017_ses-1_acq-4_run-1_axT2fse.nii.gz\u001b[00m\r\n",
      "    │       └── sub-0017_ses-1_scans.tsv\r\n",
      "    └── \u001b[01;34msub-0018\u001b[00m\r\n",
      "        └── \u001b[01;34mses-1\u001b[00m\r\n",
      "            ├── \u001b[01;34manat\u001b[00m\r\n",
      "            │   ├── sub-0018_ses-1_acq-1_run-1_axT2fse.json\r\n",
      "            │   ├── \u001b[01;31msub-0018_ses-1_acq-1_run-1_axT2fse.nii.gz\u001b[00m\r\n",
      "            │   ├── sub-0018_ses-1_acq-1_run-2_sagT1fse.json\r\n",
      "            │   ├── \u001b[01;31msub-0018_ses-1_acq-1_run-2_sagT1fse.nii.gz\u001b[00m\r\n",
      "            │   ├── sub-0018_ses-1_acq-1_run-3_sagT2fse.json\r\n",
      "            │   ├── \u001b[01;31msub-0018_ses-1_acq-1_run-3_sagT2fse.nii.gz\u001b[00m\r\n",
      "            │   ├── \u001b[01;31msub-0018_ses-1_acq-2_run-1_axT2fse.nii.gz\u001b[00m\r\n",
      "            │   ├── \u001b[01;31msub-0018_ses-1_acq-3_run-1_axT2fse.nii.gz\u001b[00m\r\n",
      "            │   ├── \u001b[01;31msub-0018_ses-1_acq-4_run-1_axT2fse.nii.gz\u001b[00m\r\n",
      "            │   └── \u001b[01;31msub-0018_ses-1_acq-5_run-1_axT2fse.nii.gz\u001b[00m\r\n",
      "            └── sub-0018_ses-1_scans.tsv\r\n",
      "\r\n",
      "19 directories, 66 files\r\n"
     ]
    }
   ],
   "source": [
    "! tree \"/data/3/MIDS_test/test_ds1_mids\""
   ]
  },
  {
   "cell_type": "code",
   "execution_count": null,
   "metadata": {
    "collapsed": false
   },
   "outputs": [],
   "source": [
    "! tree "
   ]
  },
  {
   "cell_type": "code",
   "execution_count": null,
   "metadata": {
    "collapsed": true
   },
   "outputs": [],
   "source": []
  }
 ],
 "metadata": {
  "kernelspec": {
   "display_name": "Python 3",
   "language": "python",
   "name": "python3"
  },
  "language_info": {
   "codemirror_mode": {
    "name": "ipython",
    "version": 2
   },
   "file_extension": ".py",
   "mimetype": "text/x-python",
   "name": "python",
   "nbconvert_exporter": "python",
   "pygments_lexer": "ipython2",
   "version": "2.7.13"
  }
 },
 "nbformat": 4,
 "nbformat_minor": 2
}
