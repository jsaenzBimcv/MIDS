{
 "cells": [
  {
   "cell_type": "markdown",
   "metadata": {},
   "source": [
    "<div class=\"clearfix\" style=\"padding: 10px; padding-left: 0px\">\n",
    "<a href=\"http://172.16.147.128\"><img src=\"../assests/logotipo-fisabio_tauv.png\" width=\"500px\" style=\"text-align:center; display: inline-block;\">\n",
    "<a href=\"http://ceib.san.gva.es\"><img src=\"../assests/logo_CEIB.png\" width=\"150px\" class=\"pull-right\" style=\"display: inline-block; margin: 0px;\"></a>\n",
    "</div>"
   ]
  },
  {
   "cell_type": "markdown",
   "metadata": {},
   "source": [
    "<h1 style=\"text-align:center\">Medical Imaging Bank Valencia Region</h1>\n",
    "<h2 style=\"text-align:center\">Image Data Structure</h2> "
   ]
  },
  {
   "cell_type": "markdown",
   "metadata": {},
   "source": [
    "<p style=\"text-align:justify\">\n",
    "The aplication XNAT is a web aplication that colects medical images of patients on a relational database, where each database belong to a project. In the CEIB, this platform is used to manage annonymizated magnetic resonance of patients of Valencia Region. This volume of data is obtained with a semiautomatical proccess from XNAT, but the acquired structure is unfunctional and complex. \n",
    "<p>\n",
    "<p style=\"text-align:justify\"> \n",
    "This proyect wants to convert the XNAT's imaging structure into a more efficient structure, automatic, and easy to undestand. This hierarchy is named **Medical Imaging Data Structure** or **_MIDS_**. _MIDS_ is meant to be a standard that will be used to store and search any type of medical information by researchers in the future.\n",
    "<p>"
   ]
  },
  {
   "cell_type": "markdown",
   "metadata": {},
   "source": [
    "## Index"
   ]
  },
  {
   "cell_type": "markdown",
   "metadata": {
    "collapsed": true
   },
   "source": [
    ">[1. Introduction](#loading)\n",
    "\n",
    ">[2. Medical Imaging Data Structure](#nids)\n",
    "\n",
    ">[3. Function Create_Structure_BIDS()](#fcsb)\n",
    "\n",
    ">[4. References](#references)\n"
   ]
  },
  {
   "cell_type": "markdown",
   "metadata": {
    "collapsed": true
   },
   "source": [
    "<a id='loading'></a>\n",
    "## 1. Introduction: XNAT data base"
   ]
  },
  {
   "cell_type": "markdown",
   "metadata": {},
   "source": [
    "<p style=\"text-align:justify\"> \n",
    "The software that CEIB uses to manage all image data is XNAT with version 1.6.5. This is a powerfull tool that allows the user to store and obtain magnetic resonances. All data images, that contain patients of valencia region, are Anonymised and distributed in several proyects into XNAT. Save data part is quite automatic in this platform, but the proccess for obtaining these images is completely manual.\n",
    "</p>\n",
    "<p style=\"text-align:justify\"> \n",
    "Furthermore, the java applet, that is use to manage downloads, is deprecated in Firefox or Chrome, for this reason, the download is inaccssible in linux. Another problem is the directory structure that is downloaded from each project since is very complex and the name of some folders and files have no visual meaning\n",
    "</p>\n",
    "\n",
    "<p style=\"text-align:justify\"> \n",
    "This proyect wants to solve two problems:\n",
    "</p>\n",
    "\n",
    "+ The problem of manual download of the data whose solution consist of a function in python/bash that throughs petitions API REST via web obtain all data more efficiently and automatically.\n",
    "\n",
    "+ The problem of the structure dischargued whose solution consist of a function in python/bash that transforms XNAT design into a standar that simplifies the data structure called MIDS. "
   ]
  },
  {
   "cell_type": "markdown",
   "metadata": {},
   "source": [
    "<a id='nids'></a>\n",
    "## 2. Medical Imaging Data Structure"
   ]
  },
  {
   "cell_type": "markdown",
   "metadata": {},
   "source": [
    "<p style=\"text-align:justify\"> \n",
    "Currently, distinc forms to store images and medical information exist, but there is not a standard that indicates how this information should be organized and shared. The CEIB idea is to use a simple organisation that any researcher can understand the distribution of data.\n",
    "</p>\n",
    "\n",
    "<p style=\"text-align:justify\">\n",
    "This desing is called MIDS (Medical Imaging Data Structure). MIDS is a new standar that contains every type of medical information and images in simple hierarchy folders. This is born as an extension of the standard BIDS (Brain Imaging Data Structure). BIDS is a structure that collect medical brain images, but MIDS pretend to extend it far away and not limit it the use to medical brain images. the idea is to create de same estructure with both brain, column images or torso, whether Resonance magnetic, Computed tomography, ecography,... This structure will definitely follow the same process regardless of the type and shape of the image\n",
    "</p>\n",
    "\n",
    "<p style=\"text-align:justify\">\n",
    "As you can see in the __figure 1__, the intention is to convert the left structure into the right structure.\n",
    "</p>"
   ]
  },
  {
   "cell_type": "markdown",
   "metadata": {
    "collapsed": true
   },
   "source": [
    "<p style=\"text-align:center\">\n",
    "<img src=\"Images/image3398.png\" >\n",
    "<div style='text-align:center;'> \n",
    "figure 1: The left schema concerns to the download data from XNAT. The right schema concerns to the new structure MIDS\n",
    "</div>\n",
    "</p>\n"
   ]
  },
  {
   "cell_type": "markdown",
   "metadata": {
    "collapsed": true
   },
   "source": [
    "<p style=\"text-align:justify\">\n",
    "Now, we talk to the both structures. In one hand, the structure data recieved from xnat contains a long names and irrelevant information. In the figure 2, the desing to store data has this information:\n",
    "</p>\n",
    "\n",
    "    1. Project name.\n",
    "    2. Subject id. In one project, you can find n subjects\n",
    "    3. Session id. In one Subject, you can find n sesions\n",
    "    4. Image file id. In one Session,you can find n images\n",
    "    5. Type of image. the type of file is indicated in this level\n",
    "    6. Image File.\n",
    "\n",
    "\n"
   ]
  },
  {
   "cell_type": "markdown",
   "metadata": {
    "collapsed": true
   },
   "source": [
    "<p style=\"text-align:center\">\n",
    "<img src=\"Images/directorio_xnat_expli.png\" >\n",
    "<div style='text-align:center;'> \n",
    "figure 2: Relevant parts to directory Xnat\n",
    "</div>\n",
    "</p>"
   ]
  },
  {
   "cell_type": "markdown",
   "metadata": {},
   "source": [
    "<p style=\"text-align:justify\">\n",
    "Furthermore, the other folders, that have not been explain, are not usable information so a one structure more efficient is needed. We intend to correct the previous structure with a more visible and efficient format whose design is given in figure 3.The structure information is:\n",
    "</p>\n",
    "\n",
    "    1. Project name.\n",
    "    2. Participants.csv file. this file contains relevant information about all subjects in one project (i.e,   age, sex, diagnosis, ...)\n",
    "    3. Control group. This folder clasify all subjects by disease, where first digits mean the ilness in the    CIE10\n",
    "    4. Subjects id. This name is more intuitive than old struct. each subject has a prefix with a number id.\n",
    "    5. participant.json file. This file describes all structure of images that is contained in subjectf folder. For exampe, in the figure 3 this file explain the subject 0008 have a session with a one image in \"anat\"\n",
    "    6. Session id. its prefix indicate the numbre of session that the subject has made.\n",
    "    7. \"anat\" folder. This folder groups the anatomical images of the session\n",
    "    8. Json file. This file is named the same as the image file and indicates all information about the image   file.\n",
    "    9.Image File. The name has a structure that indicates certain information like orientation, adquisition,    image in 3D or not, adquisition parameters, ...\n",
    "    10. \"dwi\" folder. This folder groups the Diffusion weighted imaging of the session\n",
    "    11. \"func\" folder. This folder groups the functional images of the session\n",
    "    12. \"no_classified\" folder. This folder groups the images of the session that the sortware can not sort."
   ]
  },
  {
   "cell_type": "markdown",
   "metadata": {},
   "source": [
    "<p style=\"text-align:center\">\n",
    "<img src=\"Images/DIR_BIDS_expl_Num.png\" >\n",
    "<div style='text-align:center;'> \n",
    "figure 3: Relevant parts to directory MIDS\n",
    "</div>\n",
    "</p>"
   ]
  },
  {
   "cell_type": "code",
   "execution_count": null,
   "metadata": {
    "collapsed": true
   },
   "outputs": [],
   "source": []
  }
 ],
 "metadata": {
  "kernelspec": {
   "display_name": "Python 3",
   "language": "python",
   "name": "python3"
  },
  "language_info": {
   "codemirror_mode": {
    "name": "ipython",
    "version": 2
   },
   "file_extension": ".py",
   "mimetype": "text/x-python",
   "name": "python",
   "nbconvert_exporter": "python",
   "pygments_lexer": "ipython2",
   "version": "2.7.13"
  }
 },
 "nbformat": 4,
 "nbformat_minor": 2
}
